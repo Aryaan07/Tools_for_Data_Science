{
 "cells": [
  {
   "cell_type": "markdown",
   "id": "bd9fc5a1-174c-4c89-ac66-d83c6e6a8058",
   "metadata": {},
   "source": [
    "# Data Science Tools and Ecosystem"
   ]
  },
  {
   "cell_type": "markdown",
   "id": "76af40e8-8d4d-4db4-ade7-68b87b315003",
   "metadata": {},
   "source": [
    "In this notebook, Data Science Tools and Ecosystem are summarized."
   ]
  },
  {
   "cell_type": "markdown",
   "id": "9d5b0e22-a348-42fc-abd7-35b98c7f38ec",
   "metadata": {},
   "source": [
    "## **Objectives:**\n",
    "\n",
    "- List popular languages for Data Science\n",
    "- Mention commonly used libraries in data science\n",
    "- Introduce evaluating arithmetic expressions in Python\n",
    "- Convert minutes to hours using Python\n"
   ]
  },
  {
   "cell_type": "markdown",
   "id": "7534bdb8-5a8a-4254-b4ca-6b8df595faf5",
   "metadata": {},
   "source": [
    "## Some of the popular languages that Data Scientists use are:\n",
    "\n",
    "1. Python\n",
    "2. R\n",
    "3. Julia\n",
    "4. SQL (Structured Query Language)\n",
    "5. MATLAB\n"
   ]
  },
  {
   "cell_type": "markdown",
   "id": "d0551623-6203-4120-9977-f56a00ad1b69",
   "metadata": {},
   "source": [
    "## Some of the commonly used libraries used by Data Scientists include:\n",
    "\n",
    "1. Pandas: A powerful data manipulation and analysis library for Python.\n",
    "2. NumPy: A fundamental package for numerical computing in Python.\n",
    "3. Scikit-Learn: A versatile machine learning library for Python.\n",
    "4. Matplotlib: A popular data visualization library in Python.\n",
    "5. TensorFlow: An open-source machine learning framework developed by Google.\n"
   ]
  },
  {
   "cell_type": "markdown",
   "id": "a8e2efb9-9a3a-42a8-87e6-2d01999dcb88",
   "metadata": {},
   "source": [
    "## Data Science Tools\n",
    "\n",
    "| Data Science Tools |\n",
    "| ------------------ |\n",
    "| Jupyter Notebook   |\n",
    "| RStudio            |\n",
    "| VS Code (with extensions) |\n"
   ]
  },
  {
   "cell_type": "markdown",
   "id": "d26230f8-9ad2-488a-84ac-8a5fc2abf2e6",
   "metadata": {},
   "source": [
    "### Below are a few examples of evaluating arithmetic expressions in Python\n"
   ]
  },
  {
   "cell_type": "code",
   "execution_count": 2,
   "id": "3959ac6e-a278-49a6-9cac-050e147cdd66",
   "metadata": {
    "tags": []
   },
   "outputs": [
    {
     "data": {
      "text/plain": [
       "17"
      ]
     },
     "execution_count": 2,
     "metadata": {},
     "output_type": "execute_result"
    }
   ],
   "source": [
    "#This a simple arithmetic expression to mutiply then add integers\n",
    "(3*4)+5"
   ]
  },
  {
   "cell_type": "code",
   "execution_count": 3,
   "id": "b35072a7-a765-4d1f-ab72-47b449c83901",
   "metadata": {
    "tags": []
   },
   "outputs": [
    {
     "data": {
      "text/plain": [
       "3.3333333333333335"
      ]
     },
     "execution_count": 3,
     "metadata": {},
     "output_type": "execute_result"
    }
   ],
   "source": [
    "# This will convert 200 minutes to hours by dividing by 60\n",
    "minutes = 200\n",
    "hours = minutes / 60\n",
    "hours\n"
   ]
  },
  {
   "cell_type": "markdown",
   "id": "29f2f116-4ccf-49aa-a477-53d4f0bb030d",
   "metadata": {},
   "source": [
    "## Author\n",
    "Aryan\n"
   ]
  },
  {
   "cell_type": "code",
   "execution_count": null,
   "id": "12ac870c-4d86-43a9-9b51-3dae4983adaf",
   "metadata": {},
   "outputs": [],
   "source": []
  }
 ],
 "metadata": {
  "kernelspec": {
   "display_name": "Python",
   "language": "python",
   "name": "conda-env-python-py"
  },
  "language_info": {
   "codemirror_mode": {
    "name": "ipython",
    "version": 3
   },
   "file_extension": ".py",
   "mimetype": "text/x-python",
   "name": "python",
   "nbconvert_exporter": "python",
   "pygments_lexer": "ipython3",
   "version": "3.7.12"
  }
 },
 "nbformat": 4,
 "nbformat_minor": 5
}
